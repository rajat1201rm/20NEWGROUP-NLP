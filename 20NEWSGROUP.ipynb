{
  "nbformat": 4,
  "nbformat_minor": 0,
  "metadata": {
    "colab": {
      "name": "20NEWSGROUP.ipynb",
      "provenance": []
    },
    "kernelspec": {
      "name": "python3",
      "display_name": "Python 3"
    },
    "language_info": {
      "name": "python"
    },
    "accelerator": "GPU",
    "gpuClass": "standard"
  },
  "cells": [
    {
      "cell_type": "code",
      "execution_count": 37,
      "metadata": {
        "id": "A8Fy0rNvWfn8"
      },
      "outputs": [],
      "source": [
        "from sklearn.datasets import fetch_20newsgroups\n",
        "import numpy as np"
      ]
    },
    {
      "cell_type": "code",
      "source": [
        "categories = ['alt.atheism','soc.religion.christian','talk.politics.guns','comp.graphics','sci.space']"
      ],
      "metadata": {
        "id": "wuOcwi0PXrab"
      },
      "execution_count": 38,
      "outputs": []
    },
    {
      "cell_type": "code",
      "source": [
        "print(categories)"
      ],
      "metadata": {
        "colab": {
          "base_uri": "https://localhost:8080/"
        },
        "id": "92lDf23UXrwt",
        "outputId": "041b6db6-de03-4e2e-d47e-666b552f74c2"
      },
      "execution_count": 39,
      "outputs": [
        {
          "output_type": "stream",
          "name": "stdout",
          "text": [
            "['alt.atheism', 'soc.religion.christian', 'talk.politics.guns', 'comp.graphics', 'sci.space']\n"
          ]
        }
      ]
    },
    {
      "cell_type": "code",
      "source": [
        "df = fetch_20newsgroups(subset='all', categories=categories, shuffle=False, remove=('headers', 'footers', 'quotes'))"
      ],
      "metadata": {
        "id": "iEP_sm_YXrzh"
      },
      "execution_count": 40,
      "outputs": []
    },
    {
      "cell_type": "code",
      "source": [
        "\n",
        "labels =df.target\n",
        "numberofcat=len(np.unique(labels))\n",
        "print(numberofcat)"
      ],
      "metadata": {
        "colab": {
          "base_uri": "https://localhost:8080/"
        },
        "id": "1tMFeF5EXr2-",
        "outputId": "210b34b7-c712-4a11-e315-49778e34f481"
      },
      "execution_count": 41,
      "outputs": [
        {
          "output_type": "stream",
          "name": "stdout",
          "text": [
            "5\n"
          ]
        }
      ]
    },
    {
      "cell_type": "code",
      "source": [
        "\n",
        "len(df.data)\n",
        "print(df.data[0])\n",
        "print(\"------------------Other Data Stream ---------------------------\")\n",
        "print(df.data[1])"
      ],
      "metadata": {
        "colab": {
          "base_uri": "https://localhost:8080/"
        },
        "id": "nWV555ybZ_zO",
        "outputId": "ad8a4002-e0f2-4aaa-8f20-d21cbf1189f3"
      },
      "execution_count": 42,
      "outputs": [
        {
          "output_type": "stream",
          "name": "stdout",
          "text": [
            "\n",
            "\n",
            "I think that domestication will change behavior to a large degree.\n",
            "Domesticated animals exhibit behaviors not found in the wild.  I\n",
            "don't think that they can be viewed as good representatives of the\n",
            "wild animal kingdom, since they have been bred for thousands of years\n",
            "to produce certain behaviors, etc.\n",
            "------------------Other Data Stream ---------------------------\n",
            "\n",
            "\n",
            "I think I can. Largely as a result of efforts by people reading this group\n",
            "writing letters and making phone calls the following has happened:\n",
            "\n",
            "1. NASA reprogrammed funds to keep NASP alive in 1991.\n",
            "2. Efforts to kill DC-X and the SSRT progam where twice twarted\n",
            "   (Feb. and June of last year).\n",
            "3. Gouldin kept his job in spite of heavy lobbying against him.\n",
            "\n",
            "This may not be what Mark was thinking of but it shows that the\n",
            "readers of sci.space DO have power and influence.\n",
            "\n",
            "  Allen\n",
            "\n"
          ]
        }
      ]
    },
    {
      "cell_type": "code",
      "source": [
        "from nltk.stem import WordNetLemmatizer\n",
        "from nltk.tokenize import word_tokenize"
      ],
      "metadata": {
        "id": "0Gblm1ytnfaK"
      },
      "execution_count": 43,
      "outputs": []
    },
    {
      "cell_type": "code",
      "source": [
        "#punkt is a nltk library tool for tokenizing text documents. When we use an old or a degraded version of nltk module we generally need to download the remaining data .\n",
        "#You can do\n",
        "import nltk\n",
        "nltk.download('punkt')\n",
        "nltk.download('stopwords')\n",
        "nltk.download('corpus')\n",
        "nltk.download('wordnet')\n",
        "nltk.download('omw-1.4')"
      ],
      "metadata": {
        "colab": {
          "base_uri": "https://localhost:8080/"
        },
        "id": "Q_EjlM_1rg43",
        "outputId": "6919ebc1-f3cf-4aff-8380-7a9f20b8a14c"
      },
      "execution_count": 44,
      "outputs": [
        {
          "output_type": "stream",
          "name": "stderr",
          "text": [
            "[nltk_data] Downloading package punkt to /root/nltk_data...\n",
            "[nltk_data]   Package punkt is already up-to-date!\n",
            "[nltk_data] Downloading package stopwords to /root/nltk_data...\n",
            "[nltk_data]   Package stopwords is already up-to-date!\n",
            "[nltk_data] Error loading corpus: Package 'corpus' not found in index\n",
            "[nltk_data] Downloading package wordnet to /root/nltk_data...\n",
            "[nltk_data]   Package wordnet is already up-to-date!\n",
            "[nltk_data] Downloading package omw-1.4 to /root/nltk_data...\n",
            "[nltk_data]   Package omw-1.4 is already up-to-date!\n"
          ]
        },
        {
          "output_type": "execute_result",
          "data": {
            "text/plain": [
              "True"
            ]
          },
          "metadata": {},
          "execution_count": 44
        }
      ]
    },
    {
      "cell_type": "code",
      "source": [
        "lemmatizer = WordNetLemmatizer()\n",
        "for i in range(len(df.data)):\n",
        "    word_list = word_tokenize(df.data[i])\n",
        "    lemmatized_doc = \"\"\n",
        "    for word in word_list:\n",
        "        lemmatized_doc = lemmatized_doc + \" \" + lemmatizer.lemmatize(word)\n",
        "    df.data[i] = lemmatized_doc \n",
        "print(\"--------random check of data ---------\")\n",
        "print(df.data[1])"
      ],
      "metadata": {
        "colab": {
          "base_uri": "https://localhost:8080/"
        },
        "id": "rJ2Geb4nogdY",
        "outputId": "decd535b-3a5f-4218-8120-5ac3b136c693"
      },
      "execution_count": 45,
      "outputs": [
        {
          "output_type": "stream",
          "name": "stdout",
          "text": [
            "--------random check of data ---------\n",
            " I think I can . Largely a a result of effort by people reading this group writing letter and making phone call the following ha happened : 1 . NASA reprogrammed fund to keep NASP alive in 1991 . 2 . Efforts to kill DC-X and the SSRT progam where twice twarted ( Feb. and June of last year ) . 3 . Gouldin kept his job in spite of heavy lobbying against him . This may not be what Mark wa thinking of but it show that the reader of sci.space DO have power and influence . Allen\n"
          ]
        }
      ]
    },
    {
      "cell_type": "code",
      "source": [
        "# We next convert our corpus into tf-idf vectors. We remove common stop words, terms with very low document frequency (many of them are numbers or misspells), accents.\n",
        "from sklearn.feature_extraction.text import TfidfVectorizer"
      ],
      "metadata": {
        "id": "_ILY90_KrVtO"
      },
      "execution_count": 46,
      "outputs": []
    },
    {
      "cell_type": "code",
      "source": [
        "vectorizer = TfidfVectorizer(strip_accents='unicode', stop_words='english', min_df=2) ## Corpus is in English we can use italy too\n",
        "x = vectorizer.fit_transform(df.data)"
      ],
      "metadata": {
        "id": "KBC3wnsptCOn"
      },
      "execution_count": 47,
      "outputs": []
    },
    {
      "cell_type": "code",
      "source": [
        "print(x.shape)"
      ],
      "metadata": {
        "colab": {
          "base_uri": "https://localhost:8080/"
        },
        "id": "Du6kGbFTtImO",
        "outputId": "cd9eca3f-c138-44af-a0bd-672d88e08706"
      },
      "execution_count": 48,
      "outputs": [
        {
          "output_type": "stream",
          "name": "stdout",
          "text": [
            "(4666, 20246)\n"
          ]
        }
      ]
    },
    {
      "cell_type": "code",
      "source": [
        "from sklearn.cluster import KMeans\n",
        "from time import time \n",
        "km = KMeans(n_clusters=numberofcat, max_iter=8000)\n",
        "t = time()\n",
        "print('Time taken is ',t)\n",
        "km.fit(x)"
      ],
      "metadata": {
        "colab": {
          "base_uri": "https://localhost:8080/"
        },
        "id": "3gOw1dPXtR0E",
        "outputId": "f55f70fd-73fb-45ab-c1b5-9e1850b57db9"
      },
      "execution_count": 51,
      "outputs": [
        {
          "output_type": "stream",
          "name": "stdout",
          "text": [
            "Time taken is  1659463773.7095714\n"
          ]
        },
        {
          "output_type": "execute_result",
          "data": {
            "text/plain": [
              "KMeans(max_iter=8000, n_clusters=5)"
            ]
          },
          "metadata": {},
          "execution_count": 51
        }
      ]
    },
    {
      "cell_type": "code",
      "source": [
        "from sklearn import metrics\n",
        "print(\"Silhouette Coefficient: %0.2f\"\n",
        "      % metrics.silhouette_score(x, km.labels_, sample_size=1000))"
      ],
      "metadata": {
        "colab": {
          "base_uri": "https://localhost:8080/"
        },
        "id": "ZvZ9Vpv1uDyC",
        "outputId": "b2206cf4-90f9-41b8-e4f8-85d19c9facf0"
      },
      "execution_count": 52,
      "outputs": [
        {
          "output_type": "stream",
          "name": "stdout",
          "text": [
            "Silhouette Coefficient: 0.01\n"
          ]
        }
      ]
    },
    {
      "cell_type": "code",
      "source": [
        "centroids = km.cluster_centers_.argsort()[:, ::-1] ## Indices of largest centroids' entries in descending order\n",
        "terms = vectorizer.get_feature_names_out() # .get_feature_names()\n",
        "for i in range(numberofcat):\n",
        "    print(\"Cluster %d:\" % i, end='')\n",
        "    for ind in centroids[i, :12]:\n",
        "        print(' %s' % terms[ind], end='')\n",
        "    print()"
      ],
      "metadata": {
        "colab": {
          "base_uri": "https://localhost:8080/"
        },
        "id": "62znnA4NuW5i",
        "outputId": "473a9cbd-2a33-4daa-b15b-c3fd2d84a8ec"
      },
      "execution_count": 53,
      "outputs": [
        {
          "output_type": "stream",
          "name": "stdout",
          "text": [
            "Cluster 0: wa just like think ha know people time did book doe say\n",
            "Cluster 1: gun wa fbi people right law weapon batf did crime government koresh\n",
            "Cluster 2: space nasa wa shuttle orbit launch moon mission cost satellite year like\n",
            "Cluster 3: god jesus wa believe people say doe bible christ belief sin faith\n",
            "Cluster 4: file image thanks format program graphic know color gif bit ftp looking\n"
          ]
        }
      ]
    },
    {
      "cell_type": "code",
      "source": [
        ""
      ],
      "metadata": {
        "id": "-GvysFAIuvlw"
      },
      "execution_count": null,
      "outputs": []
    }
  ]
}